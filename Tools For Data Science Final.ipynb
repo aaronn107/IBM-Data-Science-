{
 "cells": [
  {
   "cell_type": "markdown",
   "id": "97cb4b4b-24ad-4994-89a2-6274b7ac579f",
   "metadata": {},
   "source": [
    "# Data Science Tools and Ecosystem"
   ]
  },
  {
   "cell_type": "markdown",
   "id": "5b117321-e2a5-4b52-826d-db483554ff95",
   "metadata": {},
   "source": [
    "***Objectives:***\n",
    "- List popular data science languages.\n",
    "- Practice implementing markdown and code cells in Jupyter Notebook\n",
    "- List popular tools / libraries for data science."
   ]
  },
  {
   "cell_type": "markdown",
   "id": "ef7e931d-2241-4852-9a63-b87720b3d7f2",
   "metadata": {},
   "source": [
    "In this notebook, Data Science Tools and Ecosystem are summarized."
   ]
  },
  {
   "cell_type": "markdown",
   "id": "90424273-84ed-4134-bf08-ebc6a5aa9c85",
   "metadata": {},
   "source": [
    "Some of the popular languages that Data Scientists use are:\n",
    "1. Python\n",
    "2. R\n",
    "3. SQL"
   ]
  },
  {
   "cell_type": "markdown",
   "id": "1c734044-b01b-4791-90fe-0c8021ff6638",
   "metadata": {},
   "source": [
    "Some of the commonly used libraries used by Data Scientists include:\n",
    "1. Pandas\n",
    "2. Numpy\n",
    "3. Tensorflow\n",
    "4. scikit learn"
   ]
  },
  {
   "cell_type": "markdown",
   "id": "3f4ffd43-9753-4e6b-aef9-576f6d774224",
   "metadata": {},
   "source": [
    "| Data Science Tools |\n",
    "|--------|\n",
    "| Jupyter Notebooks |\n",
    "| RStudio |\n",
    "| Spyder |\n",
    "| Apache Spark |"
   ]
  },
  {
   "cell_type": "markdown",
   "id": "92fd56a6-3dbd-4871-bd8f-253f3afb0efd",
   "metadata": {},
   "source": [
    "### Below are a few examples of evaluating arithmetic expressions in Python.\n"
   ]
  },
  {
   "cell_type": "code",
   "execution_count": 21,
   "id": "890984da-d57c-46eb-8fe2-487ac729e208",
   "metadata": {},
   "outputs": [
    {
     "data": {
      "text/plain": [
       "17"
      ]
     },
     "execution_count": 21,
     "metadata": {},
     "output_type": "execute_result"
    }
   ],
   "source": [
    "# This a simple arithmetic expression to mutiply then add integers\n",
    "(3*4)+5"
   ]
  },
  {
   "cell_type": "code",
   "execution_count": 23,
   "id": "494c5634-c25c-4877-8f17-05ae85ff54d0",
   "metadata": {},
   "outputs": [
    {
     "data": {
      "text/plain": [
       "3.3333333333333335"
      ]
     },
     "execution_count": 23,
     "metadata": {},
     "output_type": "execute_result"
    }
   ],
   "source": [
    "# This will convert 200 minutes to hours by diving by 60.\n",
    "200 / 60"
   ]
  },
  {
   "cell_type": "code",
   "execution_count": null,
   "id": "27e65198-da14-4ca3-b52b-73b1bc5abdee",
   "metadata": {},
   "outputs": [],
   "source": []
  }
 ],
 "metadata": {
  "kernelspec": {
   "display_name": "Python 3 (ipykernel)",
   "language": "python",
   "name": "python3"
  },
  "language_info": {
   "codemirror_mode": {
    "name": "ipython",
    "version": 3
   },
   "file_extension": ".py",
   "mimetype": "text/x-python",
   "name": "python",
   "nbconvert_exporter": "python",
   "pygments_lexer": "ipython3",
   "version": "3.12.4"
  }
 },
 "nbformat": 4,
 "nbformat_minor": 5
}
